{
  "nbformat": 4,
  "nbformat_minor": 0,
  "metadata": {
    "colab": {
      "provenance": []
    },
    "kernelspec": {
      "name": "python3",
      "display_name": "Python 3"
    },
    "language_info": {
      "name": "python"
    }
  },
  "cells": [
    {
      "cell_type": "markdown",
      "source": [
        "Perform one step of gradient descent on the following unregularized objective using exponential loss:\n",
        "\n",
        "With the following inputs:\n",
        "\n",
        "$$X = \\begin{bmatrix}1 & 1 & 1\\\\\n",
        "2 & 2 & 1\\\\\n",
        "1 & 2 & 3\n",
        "\\end{bmatrix}$$\n",
        "\n",
        "$$Y = \\begin{bmatrix}-1\\\\\n",
        "1\\\\\n",
        "1\n",
        "\\end{bmatrix}$$\n",
        "\n",
        "$$w = \\begin{bmatrix}0.64\\\\\n",
        "0.5\\\\\n",
        "0.85\n",
        "\\end{bmatrix}$$\n",
        "\n",
        "$$ b = 1 $$\n",
        "\n",
        "$$ n = 0.3 $$\n",
        "\n"
      ],
      "metadata": {
        "id": "k_ao9zSMh6Yq"
      }
    },
    {
      "cell_type": "markdown",
      "source": [
        "---\n",
        "\n",
        "\n",
        "1. Compute the different values of the dot product of $w \\cdot x_n$ for $1 \\leq n \\leq 3$ (since $x$ has 3 rows).\n"
      ],
      "metadata": {
        "id": "1-YZ_md_IJhK"
      }
    },
    {
      "cell_type": "code",
      "source": [
        "#Write your solution here"
      ],
      "metadata": {
        "id": "SVuaXP5KISAJ"
      },
      "execution_count": null,
      "outputs": []
    },
    {
      "cell_type": "markdown",
      "source": [
        "Solution:\n",
        "\n",
        "$$X = \\begin{bmatrix}1 & 1 & 1\\\\\n",
        "2 & 2 & 1\\\\\n",
        "1 & 2 & 3\n",
        "\\end{bmatrix}$$\n",
        "\n",
        "$$w = \\begin{bmatrix}0.64\\\\\n",
        "0.5\\\\\n",
        "0.85\n",
        "\\end{bmatrix}$$\n",
        "\n",
        "$$ \\text{dot product} =  ((0.64 + 0.5 + 0.85)\n",
        "     (1.28 + 1 + 0.85)\n",
        "     (0.64 + 1 + 2.55))$$\n",
        "\n",
        "$$ \\text{dot product} = (1.99, 3.13, 4.19)$$"
      ],
      "metadata": {
        "id": "OrHx21waWW7C"
      }
    },
    {
      "cell_type": "markdown",
      "source": [
        "---\n",
        "\n",
        "2. Solve for the derivative with respect to the bias, $\\frac{∂𝓛}{∂b}$:\n",
        "\n",
        "$\n",
        "\\begin{align*}\n",
        "\\frac{∂𝓛}{∂b} &= -∑_{n}{y_n \\exp [-y_n (w \\cdot x_n + b)]} \\\\\n",
        "\\end{align*}\n",
        "$"
      ],
      "metadata": {
        "id": "-eQ7TJdkIfqx"
      }
    },
    {
      "cell_type": "code",
      "source": [
        "#Write your solution here"
      ],
      "metadata": {
        "id": "Syt-SQk-Iju1"
      },
      "execution_count": null,
      "outputs": []
    },
    {
      "cell_type": "markdown",
      "source": [
        "Solution:\n",
        "\n",
        "$$\\text{Derivative with respect to the bias} = -[-1(exp[1 (0.64 * 1 + 1)]) +  -1(exp[1 (0.5 * 1 + 1)]) + -1(exp[1 (0.85 * 1 + 1)])\n",
        "  1(exp[-1 (0.64 * 2 + 1)]) +  1(exp[-1 (0.5 * 2 + 1)]) + 1(exp[-1 (0.85 * 1 + 1)])\n",
        "  1(exp[-1 (0.64 * 1 + 1)]) +  1(exp[-1 (0.5 * 2 + 1)]) + 1(exp[-1 (0.85 * 3 + 1)])]$$\n",
        "\\\n",
        "  $$\\text{Derivative with respect to the bias} = 19.86 $$"
      ],
      "metadata": {
        "id": "v6VQ1kzUX_kG"
      }
    },
    {
      "cell_type": "markdown",
      "source": [
        "---\n",
        "\n",
        "3. Solve for the gradient with respect to the weights, ∇_w𝓛:\n",
        "\n",
        "$\n",
        "\\begin{align*}\n",
        "∇_w𝓛 &= -∑_{n}{y_n x_n \\exp [-y_n (w \\cdot x_n + b)]} \\\\\n",
        "\\end{align*}\n",
        "$\n"
      ],
      "metadata": {
        "id": "k9PIJ0n6JNCz"
      }
    },
    {
      "cell_type": "code",
      "source": [
        "#Write your solution here"
      ],
      "metadata": {
        "id": "n7e7jXe6JIg9"
      },
      "execution_count": null,
      "outputs": []
    },
    {
      "cell_type": "markdown",
      "source": [
        "Solution:\n",
        "\n",
        "$$\\text{Derivative with respect to the weights} = -[(-1*1)exp(-(-1)(0.64*1+1) + (-1*1)exp(-(-1)(0.5*1+1)) + (-1*1)exp(-(-1)(0.85*1+1)\n",
        "  (1*2)exp(-(1)(0.64*2+1) + (1*2)exp(-(1)(0.5*2+1)) + (1*1)exp(-(1)(0.85*2+1)\n",
        "  (1*1)exp(-(1)(0.64*1+1) + (1*2)exp(-(1)(0.5*2+1)) + (1*3)exp(-(1)(0.85*3+1)]  $$\n",
        "\\\n",
        "$$\\text{Derivative with respect to the weights} = (19.848, 19.842, 19.853) $$"
      ],
      "metadata": {
        "id": "a_TlEmZ_Z_Db"
      }
    },
    {
      "cell_type": "markdown",
      "source": [
        "---\n",
        "\n",
        "4. Update the bias\n",
        "\n",
        "$\n",
        "\\begin{align*}\n",
        "b_1 &= b - η\\frac{∂𝓛}{∂b} \\\\\n",
        "\\end{align*}\n",
        "$"
      ],
      "metadata": {
        "id": "3JbPMs_wJcPv"
      }
    },
    {
      "cell_type": "code",
      "source": [
        "#Write your solution here"
      ],
      "metadata": {
        "id": "Kt1hnATQJWbN"
      },
      "execution_count": null,
      "outputs": []
    },
    {
      "cell_type": "markdown",
      "source": [
        "Solution:\n",
        "\n",
        "$$b_1 = 1 -0.3 \\times 19.85$$\n",
        "$$b_1 = -4.96$$"
      ],
      "metadata": {
        "id": "bfazP3xAaUHG"
      }
    },
    {
      "cell_type": "markdown",
      "source": [
        "---\n",
        "\n",
        "5. Update the weights:\n",
        "## $\n",
        "\\begin{align*}\n",
        "w_1 &= w_1 - η∇_w𝓛 \\\\\n",
        "\\end{align*}\n",
        "$"
      ],
      "metadata": {
        "id": "vUYzgnl5Jo8E"
      }
    },
    {
      "cell_type": "code",
      "source": [
        "#Write your solution here"
      ],
      "metadata": {
        "id": "hYhlPIXyJoHA"
      },
      "execution_count": null,
      "outputs": []
    },
    {
      "cell_type": "markdown",
      "source": [
        "Solution:\n",
        "\n",
        "$$w_1 = 0.64 - 0.3 \\times 19.848$$\n",
        "$$w_1 = -5.3144$$\n",
        "\\\n",
        "$$w_2 = 0.5 - 0.3 \\times 19.842$$\n",
        "$$w_2= -5.4526$$\n",
        "\\\n",
        "$$w_3 = 0.85 - 0.3 \\times 19.853$$\n",
        "$$w_3 = -5.1059$$"
      ],
      "metadata": {
        "id": "6WBSjq2Bc5QA"
      }
    },
    {
      "cell_type": "markdown",
      "source": [
        "#Write your conclusion and explanation of the process."
      ],
      "metadata": {
        "id": "iicqHqWQKBLI"
      }
    },
    {
      "cell_type": "markdown",
      "source": [
        "---\n",
        "\n",
        "To do one step of gradient descent, we had to do the following:\n",
        "- Compute the dot product\n",
        "- Solve for the derivative with respect to the biad\n",
        "- Solve for the derivative with respect to the weights\n",
        "- Update the bias\n",
        "- Update the weights\n",
        "\n",
        "By taking the function's derivative with respect to the given weight and bias, we calculated the gradient. Take the partial derivatives with respect to each weight and bias since there are multiple parameters. Multiplying the value of derivatives with our learning rate (0.3) and -1 will yield the descent value for our parameters. By combining the parameter's current value and the descending value, we updated the value of our weight and bias."
      ],
      "metadata": {
        "id": "xwb1yShAc7lC"
      }
    }
  ]
}