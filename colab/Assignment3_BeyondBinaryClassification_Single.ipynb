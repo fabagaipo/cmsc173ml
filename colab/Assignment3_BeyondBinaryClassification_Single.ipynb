{
  "nbformat": 4,
  "nbformat_minor": 0,
  "metadata": {
    "colab": {
      "provenance": []
    },
    "kernelspec": {
      "name": "python3",
      "display_name": "Python 3"
    },
    "language_info": {
      "name": "python"
    }
  },
  "cells": [
    {
      "cell_type": "markdown",
      "source": [
        "# Imports"
      ],
      "metadata": {
        "id": "FWCZxHAx5ku9"
      }
    },
    {
      "cell_type": "code",
      "execution_count": null,
      "metadata": {
        "id": "btkoFUcu4ZJ8"
      },
      "outputs": [],
      "source": [
        "import pandas as pd\n",
        "import seaborn as sns"
      ]
    },
    {
      "cell_type": "markdown",
      "source": [
        "# Reading the Dataset"
      ],
      "metadata": {
        "id": "TTGQmb4p5nZI"
      }
    },
    {
      "cell_type": "code",
      "source": [
        "url = 'https://raw.githubusercontent.com/fabagaipo/cmsc173ml/main/datasets/abalone19.dat'\n",
        "df = pd.read_csv(url)\n",
        "df.head()"
      ],
      "metadata": {
        "colab": {
          "base_uri": "https://localhost:8080/",
          "height": 206
        },
        "id": "R8BNEdte5Ijm",
        "outputId": "82bcfcf1-eb5b-43c8-daab-a83d438588f3"
      },
      "execution_count": null,
      "outputs": [
        {
          "output_type": "execute_result",
          "data": {
            "text/plain": [
              "  Sex  Length  Diameter  Height  Whole_weight  Shucked_weight  Viscera_weight  \\\n",
              "0   M   0.455     0.365   0.095        0.5140          0.2245          0.1010   \n",
              "1   M   0.350     0.265   0.090        0.2255          0.0995          0.0485   \n",
              "2   F   0.530     0.420   0.135        0.6770          0.2565          0.1415   \n",
              "3   M   0.440     0.365   0.125        0.5160          0.2155          0.1140   \n",
              "4   I   0.330     0.255   0.080        0.2050          0.0895          0.0395   \n",
              "\n",
              "   Shell_weight     Class  \n",
              "0         0.150  negative  \n",
              "1         0.070  negative  \n",
              "2         0.210  negative  \n",
              "3         0.155  negative  \n",
              "4         0.055  negative  "
            ],
            "text/html": [
              "\n",
              "  <div id=\"df-a04ddb15-4600-44b0-877b-625ea6a467cc\">\n",
              "    <div class=\"colab-df-container\">\n",
              "      <div>\n",
              "<style scoped>\n",
              "    .dataframe tbody tr th:only-of-type {\n",
              "        vertical-align: middle;\n",
              "    }\n",
              "\n",
              "    .dataframe tbody tr th {\n",
              "        vertical-align: top;\n",
              "    }\n",
              "\n",
              "    .dataframe thead th {\n",
              "        text-align: right;\n",
              "    }\n",
              "</style>\n",
              "<table border=\"1\" class=\"dataframe\">\n",
              "  <thead>\n",
              "    <tr style=\"text-align: right;\">\n",
              "      <th></th>\n",
              "      <th>Sex</th>\n",
              "      <th>Length</th>\n",
              "      <th>Diameter</th>\n",
              "      <th>Height</th>\n",
              "      <th>Whole_weight</th>\n",
              "      <th>Shucked_weight</th>\n",
              "      <th>Viscera_weight</th>\n",
              "      <th>Shell_weight</th>\n",
              "      <th>Class</th>\n",
              "    </tr>\n",
              "  </thead>\n",
              "  <tbody>\n",
              "    <tr>\n",
              "      <th>0</th>\n",
              "      <td>M</td>\n",
              "      <td>0.455</td>\n",
              "      <td>0.365</td>\n",
              "      <td>0.095</td>\n",
              "      <td>0.5140</td>\n",
              "      <td>0.2245</td>\n",
              "      <td>0.1010</td>\n",
              "      <td>0.150</td>\n",
              "      <td>negative</td>\n",
              "    </tr>\n",
              "    <tr>\n",
              "      <th>1</th>\n",
              "      <td>M</td>\n",
              "      <td>0.350</td>\n",
              "      <td>0.265</td>\n",
              "      <td>0.090</td>\n",
              "      <td>0.2255</td>\n",
              "      <td>0.0995</td>\n",
              "      <td>0.0485</td>\n",
              "      <td>0.070</td>\n",
              "      <td>negative</td>\n",
              "    </tr>\n",
              "    <tr>\n",
              "      <th>2</th>\n",
              "      <td>F</td>\n",
              "      <td>0.530</td>\n",
              "      <td>0.420</td>\n",
              "      <td>0.135</td>\n",
              "      <td>0.6770</td>\n",
              "      <td>0.2565</td>\n",
              "      <td>0.1415</td>\n",
              "      <td>0.210</td>\n",
              "      <td>negative</td>\n",
              "    </tr>\n",
              "    <tr>\n",
              "      <th>3</th>\n",
              "      <td>M</td>\n",
              "      <td>0.440</td>\n",
              "      <td>0.365</td>\n",
              "      <td>0.125</td>\n",
              "      <td>0.5160</td>\n",
              "      <td>0.2155</td>\n",
              "      <td>0.1140</td>\n",
              "      <td>0.155</td>\n",
              "      <td>negative</td>\n",
              "    </tr>\n",
              "    <tr>\n",
              "      <th>4</th>\n",
              "      <td>I</td>\n",
              "      <td>0.330</td>\n",
              "      <td>0.255</td>\n",
              "      <td>0.080</td>\n",
              "      <td>0.2050</td>\n",
              "      <td>0.0895</td>\n",
              "      <td>0.0395</td>\n",
              "      <td>0.055</td>\n",
              "      <td>negative</td>\n",
              "    </tr>\n",
              "  </tbody>\n",
              "</table>\n",
              "</div>\n",
              "      <button class=\"colab-df-convert\" onclick=\"convertToInteractive('df-a04ddb15-4600-44b0-877b-625ea6a467cc')\"\n",
              "              title=\"Convert this dataframe to an interactive table.\"\n",
              "              style=\"display:none;\">\n",
              "        \n",
              "  <svg xmlns=\"http://www.w3.org/2000/svg\" height=\"24px\"viewBox=\"0 0 24 24\"\n",
              "       width=\"24px\">\n",
              "    <path d=\"M0 0h24v24H0V0z\" fill=\"none\"/>\n",
              "    <path d=\"M18.56 5.44l.94 2.06.94-2.06 2.06-.94-2.06-.94-.94-2.06-.94 2.06-2.06.94zm-11 1L8.5 8.5l.94-2.06 2.06-.94-2.06-.94L8.5 2.5l-.94 2.06-2.06.94zm10 10l.94 2.06.94-2.06 2.06-.94-2.06-.94-.94-2.06-.94 2.06-2.06.94z\"/><path d=\"M17.41 7.96l-1.37-1.37c-.4-.4-.92-.59-1.43-.59-.52 0-1.04.2-1.43.59L10.3 9.45l-7.72 7.72c-.78.78-.78 2.05 0 2.83L4 21.41c.39.39.9.59 1.41.59.51 0 1.02-.2 1.41-.59l7.78-7.78 2.81-2.81c.8-.78.8-2.07 0-2.86zM5.41 20L4 18.59l7.72-7.72 1.47 1.35L5.41 20z\"/>\n",
              "  </svg>\n",
              "      </button>\n",
              "      \n",
              "  <style>\n",
              "    .colab-df-container {\n",
              "      display:flex;\n",
              "      flex-wrap:wrap;\n",
              "      gap: 12px;\n",
              "    }\n",
              "\n",
              "    .colab-df-convert {\n",
              "      background-color: #E8F0FE;\n",
              "      border: none;\n",
              "      border-radius: 50%;\n",
              "      cursor: pointer;\n",
              "      display: none;\n",
              "      fill: #1967D2;\n",
              "      height: 32px;\n",
              "      padding: 0 0 0 0;\n",
              "      width: 32px;\n",
              "    }\n",
              "\n",
              "    .colab-df-convert:hover {\n",
              "      background-color: #E2EBFA;\n",
              "      box-shadow: 0px 1px 2px rgba(60, 64, 67, 0.3), 0px 1px 3px 1px rgba(60, 64, 67, 0.15);\n",
              "      fill: #174EA6;\n",
              "    }\n",
              "\n",
              "    [theme=dark] .colab-df-convert {\n",
              "      background-color: #3B4455;\n",
              "      fill: #D2E3FC;\n",
              "    }\n",
              "\n",
              "    [theme=dark] .colab-df-convert:hover {\n",
              "      background-color: #434B5C;\n",
              "      box-shadow: 0px 1px 3px 1px rgba(0, 0, 0, 0.15);\n",
              "      filter: drop-shadow(0px 1px 2px rgba(0, 0, 0, 0.3));\n",
              "      fill: #FFFFFF;\n",
              "    }\n",
              "  </style>\n",
              "\n",
              "      <script>\n",
              "        const buttonEl =\n",
              "          document.querySelector('#df-a04ddb15-4600-44b0-877b-625ea6a467cc button.colab-df-convert');\n",
              "        buttonEl.style.display =\n",
              "          google.colab.kernel.accessAllowed ? 'block' : 'none';\n",
              "\n",
              "        async function convertToInteractive(key) {\n",
              "          const element = document.querySelector('#df-a04ddb15-4600-44b0-877b-625ea6a467cc');\n",
              "          const dataTable =\n",
              "            await google.colab.kernel.invokeFunction('convertToInteractive',\n",
              "                                                     [key], {});\n",
              "          if (!dataTable) return;\n",
              "\n",
              "          const docLinkHtml = 'Like what you see? Visit the ' +\n",
              "            '<a target=\"_blank\" href=https://colab.research.google.com/notebooks/data_table.ipynb>data table notebook</a>'\n",
              "            + ' to learn more about interactive tables.';\n",
              "          element.innerHTML = '';\n",
              "          dataTable['output_type'] = 'display_data';\n",
              "          await google.colab.output.renderOutput(dataTable, element);\n",
              "          const docLink = document.createElement('div');\n",
              "          docLink.innerHTML = docLinkHtml;\n",
              "          element.appendChild(docLink);\n",
              "        }\n",
              "      </script>\n",
              "    </div>\n",
              "  </div>\n",
              "  "
            ]
          },
          "metadata": {},
          "execution_count": 135
        }
      ]
    },
    {
      "cell_type": "code",
      "source": [
        "df.shape"
      ],
      "metadata": {
        "colab": {
          "base_uri": "https://localhost:8080/"
        },
        "id": "Eqz_Tuby5X-e",
        "outputId": "9cf1150b-e10b-4a12-ec9a-4076dcae45ee"
      },
      "execution_count": null,
      "outputs": [
        {
          "output_type": "execute_result",
          "data": {
            "text/plain": [
              "(4174, 9)"
            ]
          },
          "metadata": {},
          "execution_count": 136
        }
      ]
    },
    {
      "cell_type": "code",
      "source": [
        "df.info()"
      ],
      "metadata": {
        "colab": {
          "base_uri": "https://localhost:8080/"
        },
        "id": "gYyvJSvG5bdo",
        "outputId": "4349bc1e-2e20-46c0-d541-ed31e8a6ae4f"
      },
      "execution_count": null,
      "outputs": [
        {
          "output_type": "stream",
          "name": "stdout",
          "text": [
            "<class 'pandas.core.frame.DataFrame'>\n",
            "RangeIndex: 4174 entries, 0 to 4173\n",
            "Data columns (total 9 columns):\n",
            " #   Column          Non-Null Count  Dtype  \n",
            "---  ------          --------------  -----  \n",
            " 0   Sex             4174 non-null   object \n",
            " 1   Length          4174 non-null   float64\n",
            " 2   Diameter        4174 non-null   float64\n",
            " 3   Height          4174 non-null   float64\n",
            " 4   Whole_weight    4174 non-null   float64\n",
            " 5   Shucked_weight  4174 non-null   float64\n",
            " 6   Viscera_weight  4174 non-null   float64\n",
            " 7   Shell_weight    4174 non-null   float64\n",
            " 8   Class           4174 non-null   object \n",
            "dtypes: float64(7), object(2)\n",
            "memory usage: 293.6+ KB\n"
          ]
        }
      ]
    },
    {
      "cell_type": "code",
      "source": [
        "df.corr()"
      ],
      "metadata": {
        "colab": {
          "base_uri": "https://localhost:8080/",
          "height": 269
        },
        "id": "_ew7uPKaSYg9",
        "outputId": "7e617125-f7ac-44a0-b7ec-d3f250c648a6"
      },
      "execution_count": null,
      "outputs": [
        {
          "output_type": "execute_result",
          "data": {
            "text/plain": [
              "                  Length  Diameter    Height  Whole_weight  Shucked_weight  \\\n",
              "Length          1.000000  0.986790  0.827356      0.925211        0.897873   \n",
              "Diameter        0.986790  1.000000  0.833500      0.925423        0.893138   \n",
              "Height          0.827356  0.833500  1.000000      0.819086        0.774823   \n",
              "Whole_weight    0.925211  0.925423  0.819086      1.000000        0.969352   \n",
              "Shucked_weight  0.897873  0.893138  0.774823      0.969352        1.000000   \n",
              "Viscera_weight  0.902901  0.899618  0.798103      0.966352        0.931923   \n",
              "Shell_weight    0.897575  0.905226  0.817165      0.955298        0.882457   \n",
              "\n",
              "                Viscera_weight  Shell_weight  \n",
              "Length                0.902901      0.897575  \n",
              "Diameter              0.899618      0.905226  \n",
              "Height                0.798103      0.817165  \n",
              "Whole_weight          0.966352      0.955298  \n",
              "Shucked_weight        0.931923      0.882457  \n",
              "Viscera_weight        1.000000      0.907522  \n",
              "Shell_weight          0.907522      1.000000  "
            ],
            "text/html": [
              "\n",
              "  <div id=\"df-0406c383-1729-43c8-9794-48e88f2a47e3\">\n",
              "    <div class=\"colab-df-container\">\n",
              "      <div>\n",
              "<style scoped>\n",
              "    .dataframe tbody tr th:only-of-type {\n",
              "        vertical-align: middle;\n",
              "    }\n",
              "\n",
              "    .dataframe tbody tr th {\n",
              "        vertical-align: top;\n",
              "    }\n",
              "\n",
              "    .dataframe thead th {\n",
              "        text-align: right;\n",
              "    }\n",
              "</style>\n",
              "<table border=\"1\" class=\"dataframe\">\n",
              "  <thead>\n",
              "    <tr style=\"text-align: right;\">\n",
              "      <th></th>\n",
              "      <th>Length</th>\n",
              "      <th>Diameter</th>\n",
              "      <th>Height</th>\n",
              "      <th>Whole_weight</th>\n",
              "      <th>Shucked_weight</th>\n",
              "      <th>Viscera_weight</th>\n",
              "      <th>Shell_weight</th>\n",
              "    </tr>\n",
              "  </thead>\n",
              "  <tbody>\n",
              "    <tr>\n",
              "      <th>Length</th>\n",
              "      <td>1.000000</td>\n",
              "      <td>0.986790</td>\n",
              "      <td>0.827356</td>\n",
              "      <td>0.925211</td>\n",
              "      <td>0.897873</td>\n",
              "      <td>0.902901</td>\n",
              "      <td>0.897575</td>\n",
              "    </tr>\n",
              "    <tr>\n",
              "      <th>Diameter</th>\n",
              "      <td>0.986790</td>\n",
              "      <td>1.000000</td>\n",
              "      <td>0.833500</td>\n",
              "      <td>0.925423</td>\n",
              "      <td>0.893138</td>\n",
              "      <td>0.899618</td>\n",
              "      <td>0.905226</td>\n",
              "    </tr>\n",
              "    <tr>\n",
              "      <th>Height</th>\n",
              "      <td>0.827356</td>\n",
              "      <td>0.833500</td>\n",
              "      <td>1.000000</td>\n",
              "      <td>0.819086</td>\n",
              "      <td>0.774823</td>\n",
              "      <td>0.798103</td>\n",
              "      <td>0.817165</td>\n",
              "    </tr>\n",
              "    <tr>\n",
              "      <th>Whole_weight</th>\n",
              "      <td>0.925211</td>\n",
              "      <td>0.925423</td>\n",
              "      <td>0.819086</td>\n",
              "      <td>1.000000</td>\n",
              "      <td>0.969352</td>\n",
              "      <td>0.966352</td>\n",
              "      <td>0.955298</td>\n",
              "    </tr>\n",
              "    <tr>\n",
              "      <th>Shucked_weight</th>\n",
              "      <td>0.897873</td>\n",
              "      <td>0.893138</td>\n",
              "      <td>0.774823</td>\n",
              "      <td>0.969352</td>\n",
              "      <td>1.000000</td>\n",
              "      <td>0.931923</td>\n",
              "      <td>0.882457</td>\n",
              "    </tr>\n",
              "    <tr>\n",
              "      <th>Viscera_weight</th>\n",
              "      <td>0.902901</td>\n",
              "      <td>0.899618</td>\n",
              "      <td>0.798103</td>\n",
              "      <td>0.966352</td>\n",
              "      <td>0.931923</td>\n",
              "      <td>1.000000</td>\n",
              "      <td>0.907522</td>\n",
              "    </tr>\n",
              "    <tr>\n",
              "      <th>Shell_weight</th>\n",
              "      <td>0.897575</td>\n",
              "      <td>0.905226</td>\n",
              "      <td>0.817165</td>\n",
              "      <td>0.955298</td>\n",
              "      <td>0.882457</td>\n",
              "      <td>0.907522</td>\n",
              "      <td>1.000000</td>\n",
              "    </tr>\n",
              "  </tbody>\n",
              "</table>\n",
              "</div>\n",
              "      <button class=\"colab-df-convert\" onclick=\"convertToInteractive('df-0406c383-1729-43c8-9794-48e88f2a47e3')\"\n",
              "              title=\"Convert this dataframe to an interactive table.\"\n",
              "              style=\"display:none;\">\n",
              "        \n",
              "  <svg xmlns=\"http://www.w3.org/2000/svg\" height=\"24px\"viewBox=\"0 0 24 24\"\n",
              "       width=\"24px\">\n",
              "    <path d=\"M0 0h24v24H0V0z\" fill=\"none\"/>\n",
              "    <path d=\"M18.56 5.44l.94 2.06.94-2.06 2.06-.94-2.06-.94-.94-2.06-.94 2.06-2.06.94zm-11 1L8.5 8.5l.94-2.06 2.06-.94-2.06-.94L8.5 2.5l-.94 2.06-2.06.94zm10 10l.94 2.06.94-2.06 2.06-.94-2.06-.94-.94-2.06-.94 2.06-2.06.94z\"/><path d=\"M17.41 7.96l-1.37-1.37c-.4-.4-.92-.59-1.43-.59-.52 0-1.04.2-1.43.59L10.3 9.45l-7.72 7.72c-.78.78-.78 2.05 0 2.83L4 21.41c.39.39.9.59 1.41.59.51 0 1.02-.2 1.41-.59l7.78-7.78 2.81-2.81c.8-.78.8-2.07 0-2.86zM5.41 20L4 18.59l7.72-7.72 1.47 1.35L5.41 20z\"/>\n",
              "  </svg>\n",
              "      </button>\n",
              "      \n",
              "  <style>\n",
              "    .colab-df-container {\n",
              "      display:flex;\n",
              "      flex-wrap:wrap;\n",
              "      gap: 12px;\n",
              "    }\n",
              "\n",
              "    .colab-df-convert {\n",
              "      background-color: #E8F0FE;\n",
              "      border: none;\n",
              "      border-radius: 50%;\n",
              "      cursor: pointer;\n",
              "      display: none;\n",
              "      fill: #1967D2;\n",
              "      height: 32px;\n",
              "      padding: 0 0 0 0;\n",
              "      width: 32px;\n",
              "    }\n",
              "\n",
              "    .colab-df-convert:hover {\n",
              "      background-color: #E2EBFA;\n",
              "      box-shadow: 0px 1px 2px rgba(60, 64, 67, 0.3), 0px 1px 3px 1px rgba(60, 64, 67, 0.15);\n",
              "      fill: #174EA6;\n",
              "    }\n",
              "\n",
              "    [theme=dark] .colab-df-convert {\n",
              "      background-color: #3B4455;\n",
              "      fill: #D2E3FC;\n",
              "    }\n",
              "\n",
              "    [theme=dark] .colab-df-convert:hover {\n",
              "      background-color: #434B5C;\n",
              "      box-shadow: 0px 1px 3px 1px rgba(0, 0, 0, 0.15);\n",
              "      filter: drop-shadow(0px 1px 2px rgba(0, 0, 0, 0.3));\n",
              "      fill: #FFFFFF;\n",
              "    }\n",
              "  </style>\n",
              "\n",
              "      <script>\n",
              "        const buttonEl =\n",
              "          document.querySelector('#df-0406c383-1729-43c8-9794-48e88f2a47e3 button.colab-df-convert');\n",
              "        buttonEl.style.display =\n",
              "          google.colab.kernel.accessAllowed ? 'block' : 'none';\n",
              "\n",
              "        async function convertToInteractive(key) {\n",
              "          const element = document.querySelector('#df-0406c383-1729-43c8-9794-48e88f2a47e3');\n",
              "          const dataTable =\n",
              "            await google.colab.kernel.invokeFunction('convertToInteractive',\n",
              "                                                     [key], {});\n",
              "          if (!dataTable) return;\n",
              "\n",
              "          const docLinkHtml = 'Like what you see? Visit the ' +\n",
              "            '<a target=\"_blank\" href=https://colab.research.google.com/notebooks/data_table.ipynb>data table notebook</a>'\n",
              "            + ' to learn more about interactive tables.';\n",
              "          element.innerHTML = '';\n",
              "          dataTable['output_type'] = 'display_data';\n",
              "          await google.colab.output.renderOutput(dataTable, element);\n",
              "          const docLink = document.createElement('div');\n",
              "          docLink.innerHTML = docLinkHtml;\n",
              "          element.appendChild(docLink);\n",
              "        }\n",
              "      </script>\n",
              "    </div>\n",
              "  </div>\n",
              "  "
            ]
          },
          "metadata": {},
          "execution_count": 138
        }
      ]
    },
    {
      "cell_type": "code",
      "source": [
        "sns.heatmap(df.corr())"
      ],
      "metadata": {
        "colab": {
          "base_uri": "https://localhost:8080/",
          "height": 357
        },
        "id": "FAfGcGLZSihK",
        "outputId": "9a7ee58a-4694-4d7c-92f3-700fe11bd192"
      },
      "execution_count": null,
      "outputs": [
        {
          "output_type": "execute_result",
          "data": {
            "text/plain": [
              "<matplotlib.axes._subplots.AxesSubplot at 0x7f191391bf90>"
            ]
          },
          "metadata": {},
          "execution_count": 139
        },
        {
          "output_type": "display_data",
          "data": {
            "text/plain": [
              "<Figure size 432x288 with 2 Axes>"
            ],
            "image/png": "[encoded data removed]"
          },
          "metadata": {
            "needs_background": "light"
          }
        }
      ]
    },
    {
      "cell_type": "markdown",
      "source": [
        "# Cleaning the Dataset"
      ],
      "metadata": {
        "id": "MMcK0MVL5hbd"
      }
    },
    {
      "cell_type": "code",
      "source": [
        "df.isnull().sum()"
      ],
      "metadata": {
        "colab": {
          "base_uri": "https://localhost:8080/"
        },
        "id": "JGVB1Uo85ecr",
        "outputId": "4744fcb4-2694-4931-c579-3c80a455f8f1"
      },
      "execution_count": null,
      "outputs": [
        {
          "output_type": "execute_result",
          "data": {
            "text/plain": [
              "Sex               0\n",
              "Length            0\n",
              "Diameter          0\n",
              "Height            0\n",
              "Whole_weight      0\n",
              "Shucked_weight    0\n",
              "Viscera_weight    0\n",
              "Shell_weight      0\n",
              "Class             0\n",
              "dtype: int64"
            ]
          },
          "metadata": {},
          "execution_count": 140
        }
      ]
    },
    {
      "cell_type": "code",
      "source": [
        "len(df[df.duplicated()])"
      ],
      "metadata": {
        "colab": {
          "base_uri": "https://localhost:8080/"
        },
        "id": "XDqVHmKP5p4v",
        "outputId": "82a5621d-9578-4099-cea7-9b039e407d93"
      },
      "execution_count": null,
      "outputs": [
        {
          "output_type": "execute_result",
          "data": {
            "text/plain": [
              "0"
            ]
          },
          "metadata": {},
          "execution_count": 141
        }
      ]
    },
    {
      "cell_type": "code",
      "source": [
        "df['Class'].value_counts()"
      ],
      "metadata": {
        "colab": {
          "base_uri": "https://localhost:8080/"
        },
        "id": "Rrajm6GN56XN",
        "outputId": "ad1d791c-87b1-4e73-f7d9-edf43e0851f1"
      },
      "execution_count": null,
      "outputs": [
        {
          "output_type": "execute_result",
          "data": {
            "text/plain": [
              "negative    4142\n",
              "positive      32\n",
              "Name: Class, dtype: int64"
            ]
          },
          "metadata": {},
          "execution_count": 142
        }
      ]
    },
    {
      "cell_type": "code",
      "source": [
        "sns.countplot(df['Class'])"
      ],
      "metadata": {
        "colab": {
          "base_uri": "https://localhost:8080/",
          "height": 351
        },
        "id": "A9jqnC13TeZA",
        "outputId": "61137d0c-06d5-4170-f382-8ae049d46294"
      },
      "execution_count": null,
      "outputs": [
        {
          "output_type": "stream",
          "name": "stderr",
          "text": [
            "/usr/local/lib/python3.7/dist-packages/seaborn/_decorators.py:43: FutureWarning: Pass the following variable as a keyword arg: x. From version 0.12, the only valid positional argument will be `data`, and passing other arguments without an explicit keyword will result in an error or misinterpretation.\n",
            "  FutureWarning\n"
          ]
        },
        {
          "output_type": "execute_result",
          "data": {
            "text/plain": [
              "<matplotlib.axes._subplots.AxesSubplot at 0x7f1913731410>"
            ]
          },
          "metadata": {},
          "execution_count": 143
        },
        {
          "output_type": "display_data",
          "data": {
            "text/plain": [
              "<Figure size 432x288 with 1 Axes>"
            ],
            "image/png": "[encoded data removed]"
          },
          "metadata": {
            "needs_background": "light"
          }
        }
      ]
    },
    {
      "cell_type": "code",
      "source": [
        "df['Class'] = df['Class'].map(lambda x: 0 if x == 'negative' else 1)\n",
        "df = pd.get_dummies(df, columns=['Sex'], drop_first=True)\n",
        "df"
      ],
      "metadata": {
        "colab": {
          "base_uri": "https://localhost:8080/",
          "height": 424
        },
        "id": "vKPrifFv9GYQ",
        "outputId": "324d2a76-1162-4c30-fc3d-ff510ccc16f3"
      },
      "execution_count": null,
      "outputs": [
        {
          "output_type": "execute_result",
          "data": {
            "text/plain": [
              "      Length  Diameter  Height  Whole_weight  Shucked_weight  Viscera_weight  \\\n",
              "0      0.455     0.365   0.095        0.5140          0.2245          0.1010   \n",
              "1      0.350     0.265   0.090        0.2255          0.0995          0.0485   \n",
              "2      0.530     0.420   0.135        0.6770          0.2565          0.1415   \n",
              "3      0.440     0.365   0.125        0.5160          0.2155          0.1140   \n",
              "4      0.330     0.255   0.080        0.2050          0.0895          0.0395   \n",
              "...      ...       ...     ...           ...             ...             ...   \n",
              "4169   0.560     0.430   0.155        0.8675          0.4000          0.1720   \n",
              "4170   0.565     0.450   0.165        0.8870          0.3700          0.2390   \n",
              "4171   0.590     0.440   0.135        0.9660          0.4390          0.2145   \n",
              "4172   0.600     0.475   0.205        1.1760          0.5255          0.2875   \n",
              "4173   0.625     0.485   0.150        1.0945          0.5310          0.2610   \n",
              "\n",
              "      Shell_weight  Class  Sex_I  Sex_M  \n",
              "0           0.1500      0      0      1  \n",
              "1           0.0700      0      0      1  \n",
              "2           0.2100      0      0      0  \n",
              "3           0.1550      0      0      1  \n",
              "4           0.0550      0      1      0  \n",
              "...            ...    ...    ...    ...  \n",
              "4169        0.2290      0      0      1  \n",
              "4170        0.2490      0      0      0  \n",
              "4171        0.2605      0      0      1  \n",
              "4172        0.3080      0      0      1  \n",
              "4173        0.2960      0      0      0  \n",
              "\n",
              "[4174 rows x 10 columns]"
            ],
            "text/html": [
              "\n",
              "  <div id=\"df-618088bf-1450-4fba-a410-0c5cf11465ad\">\n",
              "    <div class=\"colab-df-container\">\n",
              "      <div>\n",
              "<style scoped>\n",
              "    .dataframe tbody tr th:only-of-type {\n",
              "        vertical-align: middle;\n",
              "    }\n",
              "\n",
              "    .dataframe tbody tr th {\n",
              "        vertical-align: top;\n",
              "    }\n",
              "\n",
              "    .dataframe thead th {\n",
              "        text-align: right;\n",
              "    }\n",
              "</style>\n",
              "<table border=\"1\" class=\"dataframe\">\n",
              "  <thead>\n",
              "    <tr style=\"text-align: right;\">\n",
              "      <th></th>\n",
              "      <th>Length</th>\n",
              "      <th>Diameter</th>\n",
              "      <th>Height</th>\n",
              "      <th>Whole_weight</th>\n",
              "      <th>Shucked_weight</th>\n",
              "      <th>Viscera_weight</th>\n",
              "      <th>Shell_weight</th>\n",
              "      <th>Class</th>\n",
              "      <th>Sex_I</th>\n",
              "      <th>Sex_M</th>\n",
              "    </tr>\n",
              "  </thead>\n",
              "  <tbody>\n",
              "    <tr>\n",
              "      <th>0</th>\n",
              "      <td>0.455</td>\n",
              "      <td>0.365</td>\n",
              "      <td>0.095</td>\n",
              "      <td>0.5140</td>\n",
              "      <td>0.2245</td>\n",
              "      <td>0.1010</td>\n",
              "      <td>0.1500</td>\n",
              "      <td>0</td>\n",
              "      <td>0</td>\n",
              "      <td>1</td>\n",
              "    </tr>\n",
              "    <tr>\n",
              "      <th>1</th>\n",
              "      <td>0.350</td>\n",
              "      <td>0.265</td>\n",
              "      <td>0.090</td>\n",
              "      <td>0.2255</td>\n",
              "      <td>0.0995</td>\n",
              "      <td>0.0485</td>\n",
              "      <td>0.0700</td>\n",
              "      <td>0</td>\n",
              "      <td>0</td>\n",
              "      <td>1</td>\n",
              "    </tr>\n",
              "    <tr>\n",
              "      <th>2</th>\n",
              "      <td>0.530</td>\n",
              "      <td>0.420</td>\n",
              "      <td>0.135</td>\n",
              "      <td>0.6770</td>\n",
              "      <td>0.2565</td>\n",
              "      <td>0.1415</td>\n",
              "      <td>0.2100</td>\n",
              "      <td>0</td>\n",
              "      <td>0</td>\n",
              "      <td>0</td>\n",
              "    </tr>\n",
              "    <tr>\n",
              "      <th>3</th>\n",
              "      <td>0.440</td>\n",
              "      <td>0.365</td>\n",
              "      <td>0.125</td>\n",
              "      <td>0.5160</td>\n",
              "      <td>0.2155</td>\n",
              "      <td>0.1140</td>\n",
              "      <td>0.1550</td>\n",
              "      <td>0</td>\n",
              "      <td>0</td>\n",
              "      <td>1</td>\n",
              "    </tr>\n",
              "    <tr>\n",
              "      <th>4</th>\n",
              "      <td>0.330</td>\n",
              "      <td>0.255</td>\n",
              "      <td>0.080</td>\n",
              "      <td>0.2050</td>\n",
              "      <td>0.0895</td>\n",
              "      <td>0.0395</td>\n",
              "      <td>0.0550</td>\n",
              "      <td>0</td>\n",
              "      <td>1</td>\n",
              "      <td>0</td>\n",
              "    </tr>\n",
              "    <tr>\n",
              "      <th>...</th>\n",
              "      <td>...</td>\n",
              "      <td>...</td>\n",
              "      <td>...</td>\n",
              "      <td>...</td>\n",
              "      <td>...</td>\n",
              "      <td>...</td>\n",
              "      <td>...</td>\n",
              "      <td>...</td>\n",
              "      <td>...</td>\n",
              "      <td>...</td>\n",
              "    </tr>\n",
              "    <tr>\n",
              "      <th>4169</th>\n",
              "      <td>0.560</td>\n",
              "      <td>0.430</td>\n",
              "      <td>0.155</td>\n",
              "      <td>0.8675</td>\n",
              "      <td>0.4000</td>\n",
              "      <td>0.1720</td>\n",
              "      <td>0.2290</td>\n",
              "      <td>0</td>\n",
              "      <td>0</td>\n",
              "      <td>1</td>\n",
              "    </tr>\n",
              "    <tr>\n",
              "      <th>4170</th>\n",
              "      <td>0.565</td>\n",
              "      <td>0.450</td>\n",
              "      <td>0.165</td>\n",
              "      <td>0.8870</td>\n",
              "      <td>0.3700</td>\n",
              "      <td>0.2390</td>\n",
              "      <td>0.2490</td>\n",
              "      <td>0</td>\n",
              "      <td>0</td>\n",
              "      <td>0</td>\n",
              "    </tr>\n",
              "    <tr>\n",
              "      <th>4171</th>\n",
              "      <td>0.590</td>\n",
              "      <td>0.440</td>\n",
              "      <td>0.135</td>\n",
              "      <td>0.9660</td>\n",
              "      <td>0.4390</td>\n",
              "      <td>0.2145</td>\n",
              "      <td>0.2605</td>\n",
              "      <td>0</td>\n",
              "      <td>0</td>\n",
              "      <td>1</td>\n",
              "    </tr>\n",
              "    <tr>\n",
              "      <th>4172</th>\n",
              "      <td>0.600</td>\n",
              "      <td>0.475</td>\n",
              "      <td>0.205</td>\n",
              "      <td>1.1760</td>\n",
              "      <td>0.5255</td>\n",
              "      <td>0.2875</td>\n",
              "      <td>0.3080</td>\n",
              "      <td>0</td>\n",
              "      <td>0</td>\n",
              "      <td>1</td>\n",
              "    </tr>\n",
              "    <tr>\n",
              "      <th>4173</th>\n",
              "      <td>0.625</td>\n",
              "      <td>0.485</td>\n",
              "      <td>0.150</td>\n",
              "      <td>1.0945</td>\n",
              "      <td>0.5310</td>\n",
              "      <td>0.2610</td>\n",
              "      <td>0.2960</td>\n",
              "      <td>0</td>\n",
              "      <td>0</td>\n",
              "      <td>0</td>\n",
              "    </tr>\n",
              "  </tbody>\n",
              "</table>\n",
              "<p>4174 rows × 10 columns</p>\n",
              "</div>\n",
              "      <button class=\"colab-df-convert\" onclick=\"convertToInteractive('df-618088bf-1450-4fba-a410-0c5cf11465ad')\"\n",
              "              title=\"Convert this dataframe to an interactive table.\"\n",
              "              style=\"display:none;\">\n",
              "        \n",
              "  <svg xmlns=\"http://www.w3.org/2000/svg\" height=\"24px\"viewBox=\"0 0 24 24\"\n",
              "       width=\"24px\">\n",
              "    <path d=\"M0 0h24v24H0V0z\" fill=\"none\"/>\n",
              "    <path d=\"M18.56 5.44l.94 2.06.94-2.06 2.06-.94-2.06-.94-.94-2.06-.94 2.06-2.06.94zm-11 1L8.5 8.5l.94-2.06 2.06-.94-2.06-.94L8.5 2.5l-.94 2.06-2.06.94zm10 10l.94 2.06.94-2.06 2.06-.94-2.06-.94-.94-2.06-.94 2.06-2.06.94z\"/><path d=\"M17.41 7.96l-1.37-1.37c-.4-.4-.92-.59-1.43-.59-.52 0-1.04.2-1.43.59L10.3 9.45l-7.72 7.72c-.78.78-.78 2.05 0 2.83L4 21.41c.39.39.9.59 1.41.59.51 0 1.02-.2 1.41-.59l7.78-7.78 2.81-2.81c.8-.78.8-2.07 0-2.86zM5.41 20L4 18.59l7.72-7.72 1.47 1.35L5.41 20z\"/>\n",
              "  </svg>\n",
              "      </button>\n",
              "      \n",
              "  <style>\n",
              "    .colab-df-container {\n",
              "      display:flex;\n",
              "      flex-wrap:wrap;\n",
              "      gap: 12px;\n",
              "    }\n",
              "\n",
              "    .colab-df-convert {\n",
              "      background-color: #E8F0FE;\n",
              "      border: none;\n",
              "      border-radius: 50%;\n",
              "      cursor: pointer;\n",
              "      display: none;\n",
              "      fill: #1967D2;\n",
              "      height: 32px;\n",
              "      padding: 0 0 0 0;\n",
              "      width: 32px;\n",
              "    }\n",
              "\n",
              "    .colab-df-convert:hover {\n",
              "      background-color: #E2EBFA;\n",
              "      box-shadow: 0px 1px 2px rgba(60, 64, 67, 0.3), 0px 1px 3px 1px rgba(60, 64, 67, 0.15);\n",
              "      fill: #174EA6;\n",
              "    }\n",
              "\n",
              "    [theme=dark] .colab-df-convert {\n",
              "      background-color: #3B4455;\n",
              "      fill: #D2E3FC;\n",
              "    }\n",
              "\n",
              "    [theme=dark] .colab-df-convert:hover {\n",
              "      background-color: #434B5C;\n",
              "      box-shadow: 0px 1px 3px 1px rgba(0, 0, 0, 0.15);\n",
              "      filter: drop-shadow(0px 1px 2px rgba(0, 0, 0, 0.3));\n",
              "      fill: #FFFFFF;\n",
              "    }\n",
              "  </style>\n",
              "\n",
              "      <script>\n",
              "        const buttonEl =\n",
              "          document.querySelector('#df-618088bf-1450-4fba-a410-0c5cf11465ad button.colab-df-convert');\n",
              "        buttonEl.style.display =\n",
              "          google.colab.kernel.accessAllowed ? 'block' : 'none';\n",
              "\n",
              "        async function convertToInteractive(key) {\n",
              "          const element = document.querySelector('#df-618088bf-1450-4fba-a410-0c5cf11465ad');\n",
              "          const dataTable =\n",
              "            await google.colab.kernel.invokeFunction('convertToInteractive',\n",
              "                                                     [key], {});\n",
              "          if (!dataTable) return;\n",
              "\n",
              "          const docLinkHtml = 'Like what you see? Visit the ' +\n",
              "            '<a target=\"_blank\" href=https://colab.research.google.com/notebooks/data_table.ipynb>data table notebook</a>'\n",
              "            + ' to learn more about interactive tables.';\n",
              "          element.innerHTML = '';\n",
              "          dataTable['output_type'] = 'display_data';\n",
              "          await google.colab.output.renderOutput(dataTable, element);\n",
              "          const docLink = document.createElement('div');\n",
              "          docLink.innerHTML = docLinkHtml;\n",
              "          element.appendChild(docLink);\n",
              "        }\n",
              "      </script>\n",
              "    </div>\n",
              "  </div>\n",
              "  "
            ]
          },
          "metadata": {},
          "execution_count": 144
        }
      ]
    },
    {
      "cell_type": "markdown",
      "source": [
        "# Splitting data"
      ],
      "metadata": {
        "id": "0hZrHyVz8fbM"
      }
    },
    {
      "cell_type": "code",
      "source": [
        "X = df.drop([\"Class\"], axis=1)\n",
        "y = df.Class\n",
        "test_size = 0.2     # 80% training and 20% testing"
      ],
      "metadata": {
        "id": "-USmnFve8dLN"
      },
      "execution_count": null,
      "outputs": []
    },
    {
      "cell_type": "code",
      "source": [
        "from sklearn.model_selection import train_test_split\n",
        "X_train, X_test, y_train, y_test = train_test_split(X, y, test_size=test_size, random_state=888)"
      ],
      "metadata": {
        "id": "2eI7cvln8nlr"
      },
      "execution_count": null,
      "outputs": []
    },
    {
      "cell_type": "code",
      "source": [
        "X_train.shape, X_test.shape, y_train.shape, y_test.shape"
      ],
      "metadata": {
        "colab": {
          "base_uri": "https://localhost:8080/"
        },
        "id": "rqXrP4X_8o9J",
        "outputId": "4b17d8c4-c75e-4359-f137-f215711171f5"
      },
      "execution_count": null,
      "outputs": [
        {
          "output_type": "execute_result",
          "data": {
            "text/plain": [
              "((3339, 9), (835, 9), (3339,), (835,))"
            ]
          },
          "metadata": {},
          "execution_count": 147
        }
      ]
    },
    {
      "cell_type": "markdown",
      "source": [
        "# Model Evaluation with Imbalanced Dataset"
      ],
      "metadata": {
        "id": "wI10MakF8ufQ"
      }
    },
    {
      "cell_type": "code",
      "source": [
        "# from sklearn.linear_model import LogisticRegression\n",
        "from sklearn.neighbors import KNeighborsClassifier\n",
        "from sklearn.metrics import accuracy_score\n",
        "from sklearn.metrics import classification_report\n",
        "from sklearn.metrics import confusion_matrix\n",
        "\n",
        "# model = LogisticRegression(multi_class='ovr', solver='liblinear')\n",
        "model = KNeighborsClassifier()"
      ],
      "metadata": {
        "id": "PTn-j4I08w2i"
      },
      "execution_count": null,
      "outputs": []
    },
    {
      "cell_type": "code",
      "source": [
        "y_train.value_counts()"
      ],
      "metadata": {
        "colab": {
          "base_uri": "https://localhost:8080/"
        },
        "id": "oAVekMdK8x3w",
        "outputId": "53647473-8e35-409d-db85-052c5e2f95fa"
      },
      "execution_count": null,
      "outputs": [
        {
          "output_type": "execute_result",
          "data": {
            "text/plain": [
              "0    3313\n",
              "1      26\n",
              "Name: Class, dtype: int64"
            ]
          },
          "metadata": {},
          "execution_count": 149
        }
      ]
    },
    {
      "cell_type": "code",
      "source": [
        "model.fit(X_train, y_train)\n",
        "y_pred = model.predict(X_test)"
      ],
      "metadata": {
        "id": "Wcdsu_rh80_1"
      },
      "execution_count": null,
      "outputs": []
    },
    {
      "cell_type": "code",
      "source": [
        "accuracy_original = accuracy_score(y_test, y_pred)\n",
        "print(\"Accuracy: %.3f%%\" % (accuracy_original))"
      ],
      "metadata": {
        "colab": {
          "base_uri": "https://localhost:8080/"
        },
        "id": "Br_LjKPZfgHq",
        "outputId": "0bd7deb8-068d-48a0-978b-ec0660ff6ac1"
      },
      "execution_count": null,
      "outputs": [
        {
          "output_type": "stream",
          "name": "stdout",
          "text": [
            "Accuracy: 0.993%\n"
          ]
        }
      ]
    },
    {
      "cell_type": "code",
      "source": [
        "report_original = classification_report(y_test, y_pred)\n",
        "print(report_original)"
      ],
      "metadata": {
        "colab": {
          "base_uri": "https://localhost:8080/"
        },
        "id": "b-anbi2A-Tt7",
        "outputId": "b3732ed1-a429-4eba-d5e6-09439230a3b3"
      },
      "execution_count": null,
      "outputs": [
        {
          "output_type": "stream",
          "name": "stdout",
          "text": [
            "              precision    recall  f1-score   support\n",
            "\n",
            "           0       0.99      1.00      1.00       829\n",
            "           1       0.00      0.00      0.00         6\n",
            "\n",
            "    accuracy                           0.99       835\n",
            "   macro avg       0.50      0.50      0.50       835\n",
            "weighted avg       0.99      0.99      0.99       835\n",
            "\n"
          ]
        },
        {
          "output_type": "stream",
          "name": "stderr",
          "text": [
            "/usr/local/lib/python3.7/dist-packages/sklearn/metrics/_classification.py:1318: UndefinedMetricWarning: Precision and F-score are ill-defined and being set to 0.0 in labels with no predicted samples. Use `zero_division` parameter to control this behavior.\n",
            "  _warn_prf(average, modifier, msg_start, len(result))\n",
            "/usr/local/lib/python3.7/dist-packages/sklearn/metrics/_classification.py:1318: UndefinedMetricWarning: Precision and F-score are ill-defined and being set to 0.0 in labels with no predicted samples. Use `zero_division` parameter to control this behavior.\n",
            "  _warn_prf(average, modifier, msg_start, len(result))\n",
            "/usr/local/lib/python3.7/dist-packages/sklearn/metrics/_classification.py:1318: UndefinedMetricWarning: Precision and F-score are ill-defined and being set to 0.0 in labels with no predicted samples. Use `zero_division` parameter to control this behavior.\n",
            "  _warn_prf(average, modifier, msg_start, len(result))\n"
          ]
        }
      ]
    },
    {
      "cell_type": "code",
      "source": [
        "confusionMatrix_original = confusion_matrix(y_test, model.predict(X_test))\n",
        "sns.heatmap(confusionMatrix_original, annot=True, fmt=\".0f\")"
      ],
      "metadata": {
        "colab": {
          "base_uri": "https://localhost:8080/",
          "height": 282
        },
        "id": "w-SjPOgHVg-0",
        "outputId": "aa7672c8-63a3-41d1-a849-1885f071a5d5"
      },
      "execution_count": null,
      "outputs": [
        {
          "output_type": "execute_result",
          "data": {
            "text/plain": [
              "<matplotlib.axes._subplots.AxesSubplot at 0x7f19136b5590>"
            ]
          },
          "metadata": {},
          "execution_count": 153
        },
        {
          "output_type": "display_data",
          "data": {
            "text/plain": [
              "<Figure size 432x288 with 2 Axes>"
            ],
            "image/png": "[encoded data removed]"
          },
          "metadata": {
            "needs_background": "light"
          }
        }
      ]
    },
    {
      "cell_type": "markdown",
      "source": [
        "# Handling Imbalanced Dataset"
      ],
      "metadata": {
        "id": "k4UYBHdx_Uww"
      }
    },
    {
      "cell_type": "code",
      "source": [
        "pip install -U imbalanced-learn"
      ],
      "metadata": {
        "colab": {
          "base_uri": "https://localhost:8080/"
        },
        "id": "ie-AsMxx_XtO",
        "outputId": "38edbfcf-3843-46b4-979a-95a467f3a776"
      },
      "execution_count": null,
      "outputs": [
        {
          "output_type": "stream",
          "name": "stdout",
          "text": [
            "Looking in indexes: https://pypi.org/simple, https://us-python.pkg.dev/colab-wheels/public/simple/\n",
            "Requirement already satisfied: imbalanced-learn in /usr/local/lib/python3.7/dist-packages (0.9.0)\n",
            "Collecting imbalanced-learn\n",
            "  Using cached imbalanced_learn-0.9.1-py3-none-any.whl (199 kB)\n",
            "Requirement already satisfied: threadpoolctl>=2.0.0 in /usr/local/lib/python3.7/dist-packages (from imbalanced-learn) (3.1.0)\n",
            "Requirement already satisfied: scikit-learn>=1.0.1 in /usr/local/lib/python3.7/dist-packages (from imbalanced-learn) (1.0.2)\n",
            "Requirement already satisfied: scipy>=1.1.0 in /usr/local/lib/python3.7/dist-packages (from imbalanced-learn) (1.7.3)\n",
            "Requirement already satisfied: joblib>=0.11 in /usr/local/lib/python3.7/dist-packages (from imbalanced-learn) (1.2.0)\n",
            "Requirement already satisfied: numpy>=1.14.6 in /usr/local/lib/python3.7/dist-packages (from imbalanced-learn) (1.21.6)\n"
          ]
        }
      ]
    },
    {
      "cell_type": "markdown",
      "source": [
        "---\n",
        "- Undersampling Method"
      ],
      "metadata": {
        "id": "E2SDHgG8_ehq"
      }
    },
    {
      "cell_type": "code",
      "source": [
        "from imblearn.under_sampling import RandomUnderSampler\n",
        "rus = RandomUnderSampler()\n",
        "X_resampled_under, y_resampled_under = rus.fit_resample(X_train, y_train)"
      ],
      "metadata": {
        "id": "HmiQS7UC_ca-"
      },
      "execution_count": null,
      "outputs": []
    },
    {
      "cell_type": "code",
      "source": [
        "y_resampled_under.value_counts()"
      ],
      "metadata": {
        "colab": {
          "base_uri": "https://localhost:8080/"
        },
        "id": "oXsLkj8P_iG0",
        "outputId": "36c13775-f821-4455-c1c1-c0d9b01e2a37"
      },
      "execution_count": null,
      "outputs": [
        {
          "output_type": "execute_result",
          "data": {
            "text/plain": [
              "0    26\n",
              "1    26\n",
              "Name: Class, dtype: int64"
            ]
          },
          "metadata": {},
          "execution_count": 156
        }
      ]
    },
    {
      "cell_type": "code",
      "source": [
        "model.fit(X_resampled_under, y_resampled_under)\n",
        "y_pred_under = model.predict(X_test)"
      ],
      "metadata": {
        "id": "I-8BnGN-_pFx"
      },
      "execution_count": null,
      "outputs": []
    },
    {
      "cell_type": "code",
      "source": [
        "accuracy_under = accuracy_score(y_test, y_pred_under)\n",
        "print(\"Accuracy: %.3f%%\" % (accuracy_under))"
      ],
      "metadata": {
        "colab": {
          "base_uri": "https://localhost:8080/"
        },
        "id": "aHD-YR3wfjCO",
        "outputId": "737c852c-dbe0-4200-eaa4-c9d9c4d8a71c"
      },
      "execution_count": null,
      "outputs": [
        {
          "output_type": "stream",
          "name": "stdout",
          "text": [
            "Accuracy: 0.525%\n"
          ]
        }
      ]
    },
    {
      "cell_type": "code",
      "source": [
        "report_under = classification_report(y_test, y_pred_under)\n",
        "print(report_under)"
      ],
      "metadata": {
        "colab": {
          "base_uri": "https://localhost:8080/"
        },
        "id": "sSCN571__qOG",
        "outputId": "08e9472b-8a54-4c13-cf22-7e13b55da3dc"
      },
      "execution_count": null,
      "outputs": [
        {
          "output_type": "stream",
          "name": "stdout",
          "text": [
            "              precision    recall  f1-score   support\n",
            "\n",
            "           0       1.00      0.52      0.69       829\n",
            "           1       0.01      1.00      0.03         6\n",
            "\n",
            "    accuracy                           0.52       835\n",
            "   macro avg       0.51      0.76      0.36       835\n",
            "weighted avg       0.99      0.52      0.68       835\n",
            "\n"
          ]
        }
      ]
    },
    {
      "cell_type": "code",
      "source": [
        "confusionMatrix_under = confusion_matrix(y_test, model.predict(X_test))\n",
        "sns.heatmap(confusionMatrix_under, annot=True, fmt=\".0f\")"
      ],
      "metadata": {
        "colab": {
          "base_uri": "https://localhost:8080/"
        },
        "id": "k-No1foBVzKL",
        "outputId": "7f1cdd85-8161-4b14-b880-acdca0523e5d"
      },
      "execution_count": null,
      "outputs": [
        {
          "output_type": "execute_result",
          "data": {
            "text/plain": [
              "<matplotlib.axes._subplots.AxesSubplot at 0x7f19137a0b90>"
            ]
          },
          "metadata": {},
          "execution_count": 160
        },
        {
          "output_type": "display_data",
          "data": {
            "text/plain": [
              "<Figure size 432x288 with 2 Axes>"
            ],
            "image/png": "[encoded data removed]"
          },
          "metadata": {
            "needs_background": "light"
          }
        }
      ]
    },
    {
      "cell_type": "markdown",
      "source": [
        "---\n",
        "- Oversampling Method"
      ],
      "metadata": {
        "id": "jPGOM2l__rQF"
      }
    },
    {
      "cell_type": "code",
      "source": [
        "from imblearn.over_sampling import RandomOverSampler\n",
        "ros = RandomOverSampler()\n",
        "X_resampled_over, y_resampled_over = ros.fit_resample(X_train, y_train)"
      ],
      "metadata": {
        "id": "li2QgeOU_tbq"
      },
      "execution_count": null,
      "outputs": []
    },
    {
      "cell_type": "code",
      "source": [
        "y_resampled_over.value_counts()"
      ],
      "metadata": {
        "colab": {
          "base_uri": "https://localhost:8080/"
        },
        "id": "rZ0q8Gn-_xYy",
        "outputId": "42eb12cd-d7a3-4dad-a107-35378c87585e"
      },
      "execution_count": null,
      "outputs": [
        {
          "output_type": "execute_result",
          "data": {
            "text/plain": [
              "0    3313\n",
              "1    3313\n",
              "Name: Class, dtype: int64"
            ]
          },
          "metadata": {},
          "execution_count": 162
        }
      ]
    },
    {
      "cell_type": "code",
      "source": [
        "model.fit(X_resampled_over, y_resampled_over)\n",
        "y_pred_over = model.predict(X_test)"
      ],
      "metadata": {
        "id": "ouEemUrC_yvK"
      },
      "execution_count": null,
      "outputs": []
    },
    {
      "cell_type": "code",
      "source": [
        "accuracy_over = accuracy_score(y_test, y_pred_over)\n",
        "print(\"Accuracy: %.3f%%\" % (accuracy_over))"
      ],
      "metadata": {
        "colab": {
          "base_uri": "https://localhost:8080/"
        },
        "id": "RJgUDoxofmYy",
        "outputId": "3dfcf9d6-d0ee-4698-ea72-542ff40806e4"
      },
      "execution_count": null,
      "outputs": [
        {
          "output_type": "stream",
          "name": "stdout",
          "text": [
            "Accuracy: 0.960%\n"
          ]
        }
      ]
    },
    {
      "cell_type": "code",
      "source": [
        "report_over = classification_report(y_test, y_pred_over)\n",
        "print(report_over)"
      ],
      "metadata": {
        "colab": {
          "base_uri": "https://localhost:8080/"
        },
        "id": "KknSqjBb_0DV",
        "outputId": "ba02f623-c57a-42a0-d767-00faa6bcce1e"
      },
      "execution_count": null,
      "outputs": [
        {
          "output_type": "stream",
          "name": "stdout",
          "text": [
            "              precision    recall  f1-score   support\n",
            "\n",
            "           0       0.99      0.97      0.98       829\n",
            "           1       0.00      0.00      0.00         6\n",
            "\n",
            "    accuracy                           0.96       835\n",
            "   macro avg       0.50      0.48      0.49       835\n",
            "weighted avg       0.99      0.96      0.97       835\n",
            "\n"
          ]
        }
      ]
    },
    {
      "cell_type": "code",
      "source": [
        "confusionMatrix_over = confusion_matrix(y_test, model.predict(X_test))\n",
        "sns.heatmap(confusionMatrix_over, annot=True, fmt=\".0f\")"
      ],
      "metadata": {
        "colab": {
          "base_uri": "https://localhost:8080/"
        },
        "id": "y48XeTn6WAws",
        "outputId": "8c1b2331-1535-4cda-adbb-607a4ca56381"
      },
      "execution_count": null,
      "outputs": [
        {
          "output_type": "execute_result",
          "data": {
            "text/plain": [
              "<matplotlib.axes._subplots.AxesSubplot at 0x7f1913591fd0>"
            ]
          },
          "metadata": {},
          "execution_count": 166
        },
        {
          "output_type": "display_data",
          "data": {
            "text/plain": [
              "<Figure size 432x288 with 2 Axes>"
            ],
            "image/png": "[encoded data removed]"
          },
          "metadata": {
            "needs_background": "light"
          }
        }
      ]
    },
    {
      "cell_type": "markdown",
      "source": [
        "# Evaluation"
      ],
      "metadata": {
        "id": "O1N4BRqn_4O6"
      }
    },
    {
      "cell_type": "markdown",
      "source": [
        "Doing model evaluation with the imbalanced dataset, we can see the accuracy at 99% making the result be unreliable and misleading, leading it to have an accuracy pitfall. Does this mean our model is running correctly? No, it just shows how uneven our dataset really is. This is the definition of imbalanced datasets. Imbalanced datasets are those where there is a severe skew in the class distribution, such as 1:100 or 1:1000 examples in the minority class to the majority class. As can be seen in the report for the original dataset, the metrics of class = 1 are low. Although our model has a high accuracy, the accuracy only reflects that of class = 0. The model on the original dataset can predict with 0.60 accuracies, but when we look at the Confusion Matrix, the rate of false predictions in class=0 is quite high. Actually, the model correctly predicts the negative class with 0.99 accuracies. Because our dataset is an imbalanced dataset\n",
        "\n",
        "After handling our imbalanced dataset with the methods of oversampling and undersampling, we see the accuracy drop down from the results of the original dataset (undersampling = 63% and oversampling = 80%). This is a significance decrease from that of the original report. According to the model, the prediction of the negative abalone class (class = 0) has decreased, but there is also an increase in the recall metric of class = 1 or the positive abalone class, which means that the rate of predicting class = 1 of the model increased."
      ],
      "metadata": {
        "id": "TrBxR6oz_6qD"
      }
    }
  ]
}