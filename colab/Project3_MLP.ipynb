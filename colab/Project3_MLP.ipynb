{
  "nbformat": 4,
  "nbformat_minor": 0,
  "metadata": {
    "colab": {
      "provenance": []
    },
    "kernelspec": {
      "name": "python3",
      "display_name": "Python 3"
    },
    "language_info": {
      "name": "python"
    }
  },
  "cells": [
    {
      "cell_type": "markdown",
      "source": [
        "# Imports"
      ],
      "metadata": {
        "id": "QDrLTmGH259r"
      }
    },
    {
      "cell_type": "code",
      "execution_count": null,
      "metadata": {
        "id": "VPzPyfa8ju0w"
      },
      "outputs": [],
      "source": [
        "import pandas as pd\n",
        "import numpy as np"
      ]
    },
    {
      "cell_type": "markdown",
      "source": [
        "# Data Reading and Cleaning"
      ],
      "metadata": {
        "id": "djsXow6O27Xd"
      }
    },
    {
      "cell_type": "code",
      "source": [
        "url = 'https://raw.githubusercontent.com/StatsGary/Data/main/thyroid_raw.csv'\n",
        "df = pd.read_csv(url, header=None)\n",
        "data = df.drop(df.iloc[:, 1:22], axis = 1)\n",
        "data.columns = [\"Feature1\", \"Feature2\", \"Feature3\", \"Feature4\", \"Feature5\", \"Target\"]\n",
        "data = data.drop(['Feature2', 'Feature4'], axis=1)\n",
        "data.columns = [\"Feature1\", \"Feature2\", \"Feature3\", \"Target\"]\n",
        "data = data.to_numpy()\n",
        "data"
      ],
      "metadata": {
        "colab": {
          "base_uri": "https://localhost:8080/"
        },
        "id": "_-k4AYd6kAQX",
        "outputId": "5f61b373-5254-4c6b-83c5-66eee9940dde"
      },
      "execution_count": null,
      "outputs": [
        {
          "output_type": "execute_result",
          "data": {
            "text/plain": [
              "array([[0.8408678952719717, -0.6384998731458282, -1.209042232192488,\n",
              "        'sick'],\n",
              "       [1.3322285265420328, -1.5042690021617549, 0.164048865111289,\n",
              "        'negative'],\n",
              "       [0.6443236427639473, -0.3329342981990303, 0.6827721685371604,\n",
              "        'negative'],\n",
              "       ...,\n",
              "       [1.0374121477799962, 0.3800520433434972, -0.1410824898451059,\n",
              "        'negative'],\n",
              "       [0.939140021525984, -0.2820067023745646, -0.6903189287666168,\n",
              "        'sick'],\n",
              "       [0.546051516509935, 0.3800520433434972, -0.5377532512884193,\n",
              "        'negative']], dtype=object)"
            ]
          },
          "metadata": {},
          "execution_count": 26
        }
      ]
    },
    {
      "cell_type": "code",
      "source": [
        "data[:, -1]"
      ],
      "metadata": {
        "colab": {
          "base_uri": "https://localhost:8080/"
        },
        "id": "zji56zl1z2u3",
        "outputId": "f1d8a04a-cce8-4336-8ea3-231a22a33211"
      },
      "execution_count": null,
      "outputs": [
        {
          "output_type": "execute_result",
          "data": {
            "text/plain": [
              "array(['sick', 'negative', 'negative', ..., 'negative', 'sick',\n",
              "       'negative'], dtype=object)"
            ]
          },
          "metadata": {},
          "execution_count": 27
        }
      ]
    },
    {
      "cell_type": "code",
      "source": [
        "my_map = {'negative': 0, 'sick': 1}\n",
        "data[:, -1] = np.vectorize(my_map.get)(data[:, -1])\n",
        "data"
      ],
      "metadata": {
        "colab": {
          "base_uri": "https://localhost:8080/"
        },
        "id": "TrtKdp9dvd6l",
        "outputId": "46bce700-caf3-4314-f5c3-3a956e53ac63"
      },
      "execution_count": null,
      "outputs": [
        {
          "output_type": "execute_result",
          "data": {
            "text/plain": [
              "array([[0.8408678952719717, -0.6384998731458282, -1.209042232192488, 1],\n",
              "       [1.3322285265420328, -1.5042690021617549, 0.164048865111289, 0],\n",
              "       [0.6443236427639473, -0.3329342981990303, 0.6827721685371604, 0],\n",
              "       ...,\n",
              "       [1.0374121477799962, 0.3800520433434972, -0.1410824898451059, 0],\n",
              "       [0.939140021525984, -0.2820067023745646, -0.6903189287666168, 1],\n",
              "       [0.546051516509935, 0.3800520433434972, -0.5377532512884193, 0]],\n",
              "      dtype=object)"
            ]
          },
          "metadata": {},
          "execution_count": 28
        }
      ]
    },
    {
      "cell_type": "code",
      "source": [
        "df = pd.DataFrame(data, columns = [\"Feature1\", \"Feature2\", \"Feature3\", \"Target\"])\n",
        "df"
      ],
      "metadata": {
        "colab": {
          "base_uri": "https://localhost:8080/",
          "height": 424
        },
        "id": "UK-Buw3o0pGI",
        "outputId": "4b24de35-7412-4c4e-87b8-0b4e3683270a"
      },
      "execution_count": null,
      "outputs": [
        {
          "output_type": "execute_result",
          "data": {
            "text/plain": [
              "      Feature1  Feature2  Feature3 Target\n",
              "0     0.840868   -0.6385 -1.209042      1\n",
              "1     1.332229 -1.504269  0.164049      0\n",
              "2     0.644324 -0.332934  0.682772      0\n",
              "3     0.742596 -0.536645  -0.50724      0\n",
              "4     1.528773 -0.231079  0.347128      1\n",
              "...        ...       ...       ...    ...\n",
              "2745 -1.665071  0.583762 -0.385188      0\n",
              "2746  0.742596   0.43098  0.133536      0\n",
              "2747  1.037412  0.380052 -0.141082      0\n",
              "2748   0.93914 -0.282007 -0.690319      1\n",
              "2749  0.546052  0.380052 -0.537753      0\n",
              "\n",
              "[2750 rows x 4 columns]"
            ],
            "text/html": [
              "\n",
              "  <div id=\"df-f9d7f077-c1e6-4610-b12e-7a02492f117a\">\n",
              "    <div class=\"colab-df-container\">\n",
              "      <div>\n",
              "<style scoped>\n",
              "    .dataframe tbody tr th:only-of-type {\n",
              "        vertical-align: middle;\n",
              "    }\n",
              "\n",
              "    .dataframe tbody tr th {\n",
              "        vertical-align: top;\n",
              "    }\n",
              "\n",
              "    .dataframe thead th {\n",
              "        text-align: right;\n",
              "    }\n",
              "</style>\n",
              "<table border=\"1\" class=\"dataframe\">\n",
              "  <thead>\n",
              "    <tr style=\"text-align: right;\">\n",
              "      <th></th>\n",
              "      <th>Feature1</th>\n",
              "      <th>Feature2</th>\n",
              "      <th>Feature3</th>\n",
              "      <th>Target</th>\n",
              "    </tr>\n",
              "  </thead>\n",
              "  <tbody>\n",
              "    <tr>\n",
              "      <th>0</th>\n",
              "      <td>0.840868</td>\n",
              "      <td>-0.6385</td>\n",
              "      <td>-1.209042</td>\n",
              "      <td>1</td>\n",
              "    </tr>\n",
              "    <tr>\n",
              "      <th>1</th>\n",
              "      <td>1.332229</td>\n",
              "      <td>-1.504269</td>\n",
              "      <td>0.164049</td>\n",
              "      <td>0</td>\n",
              "    </tr>\n",
              "    <tr>\n",
              "      <th>2</th>\n",
              "      <td>0.644324</td>\n",
              "      <td>-0.332934</td>\n",
              "      <td>0.682772</td>\n",
              "      <td>0</td>\n",
              "    </tr>\n",
              "    <tr>\n",
              "      <th>3</th>\n",
              "      <td>0.742596</td>\n",
              "      <td>-0.536645</td>\n",
              "      <td>-0.50724</td>\n",
              "      <td>0</td>\n",
              "    </tr>\n",
              "    <tr>\n",
              "      <th>4</th>\n",
              "      <td>1.528773</td>\n",
              "      <td>-0.231079</td>\n",
              "      <td>0.347128</td>\n",
              "      <td>1</td>\n",
              "    </tr>\n",
              "    <tr>\n",
              "      <th>...</th>\n",
              "      <td>...</td>\n",
              "      <td>...</td>\n",
              "      <td>...</td>\n",
              "      <td>...</td>\n",
              "    </tr>\n",
              "    <tr>\n",
              "      <th>2745</th>\n",
              "      <td>-1.665071</td>\n",
              "      <td>0.583762</td>\n",
              "      <td>-0.385188</td>\n",
              "      <td>0</td>\n",
              "    </tr>\n",
              "    <tr>\n",
              "      <th>2746</th>\n",
              "      <td>0.742596</td>\n",
              "      <td>0.43098</td>\n",
              "      <td>0.133536</td>\n",
              "      <td>0</td>\n",
              "    </tr>\n",
              "    <tr>\n",
              "      <th>2747</th>\n",
              "      <td>1.037412</td>\n",
              "      <td>0.380052</td>\n",
              "      <td>-0.141082</td>\n",
              "      <td>0</td>\n",
              "    </tr>\n",
              "    <tr>\n",
              "      <th>2748</th>\n",
              "      <td>0.93914</td>\n",
              "      <td>-0.282007</td>\n",
              "      <td>-0.690319</td>\n",
              "      <td>1</td>\n",
              "    </tr>\n",
              "    <tr>\n",
              "      <th>2749</th>\n",
              "      <td>0.546052</td>\n",
              "      <td>0.380052</td>\n",
              "      <td>-0.537753</td>\n",
              "      <td>0</td>\n",
              "    </tr>\n",
              "  </tbody>\n",
              "</table>\n",
              "<p>2750 rows × 4 columns</p>\n",
              "</div>\n",
              "      <button class=\"colab-df-convert\" onclick=\"convertToInteractive('df-f9d7f077-c1e6-4610-b12e-7a02492f117a')\"\n",
              "              title=\"Convert this dataframe to an interactive table.\"\n",
              "              style=\"display:none;\">\n",
              "        \n",
              "  <svg xmlns=\"http://www.w3.org/2000/svg\" height=\"24px\"viewBox=\"0 0 24 24\"\n",
              "       width=\"24px\">\n",
              "    <path d=\"M0 0h24v24H0V0z\" fill=\"none\"/>\n",
              "    <path d=\"M18.56 5.44l.94 2.06.94-2.06 2.06-.94-2.06-.94-.94-2.06-.94 2.06-2.06.94zm-11 1L8.5 8.5l.94-2.06 2.06-.94-2.06-.94L8.5 2.5l-.94 2.06-2.06.94zm10 10l.94 2.06.94-2.06 2.06-.94-2.06-.94-.94-2.06-.94 2.06-2.06.94z\"/><path d=\"M17.41 7.96l-1.37-1.37c-.4-.4-.92-.59-1.43-.59-.52 0-1.04.2-1.43.59L10.3 9.45l-7.72 7.72c-.78.78-.78 2.05 0 2.83L4 21.41c.39.39.9.59 1.41.59.51 0 1.02-.2 1.41-.59l7.78-7.78 2.81-2.81c.8-.78.8-2.07 0-2.86zM5.41 20L4 18.59l7.72-7.72 1.47 1.35L5.41 20z\"/>\n",
              "  </svg>\n",
              "      </button>\n",
              "      \n",
              "  <style>\n",
              "    .colab-df-container {\n",
              "      display:flex;\n",
              "      flex-wrap:wrap;\n",
              "      gap: 12px;\n",
              "    }\n",
              "\n",
              "    .colab-df-convert {\n",
              "      background-color: #E8F0FE;\n",
              "      border: none;\n",
              "      border-radius: 50%;\n",
              "      cursor: pointer;\n",
              "      display: none;\n",
              "      fill: #1967D2;\n",
              "      height: 32px;\n",
              "      padding: 0 0 0 0;\n",
              "      width: 32px;\n",
              "    }\n",
              "\n",
              "    .colab-df-convert:hover {\n",
              "      background-color: #E2EBFA;\n",
              "      box-shadow: 0px 1px 2px rgba(60, 64, 67, 0.3), 0px 1px 3px 1px rgba(60, 64, 67, 0.15);\n",
              "      fill: #174EA6;\n",
              "    }\n",
              "\n",
              "    [theme=dark] .colab-df-convert {\n",
              "      background-color: #3B4455;\n",
              "      fill: #D2E3FC;\n",
              "    }\n",
              "\n",
              "    [theme=dark] .colab-df-convert:hover {\n",
              "      background-color: #434B5C;\n",
              "      box-shadow: 0px 1px 3px 1px rgba(0, 0, 0, 0.15);\n",
              "      filter: drop-shadow(0px 1px 2px rgba(0, 0, 0, 0.3));\n",
              "      fill: #FFFFFF;\n",
              "    }\n",
              "  </style>\n",
              "\n",
              "      <script>\n",
              "        const buttonEl =\n",
              "          document.querySelector('#df-f9d7f077-c1e6-4610-b12e-7a02492f117a button.colab-df-convert');\n",
              "        buttonEl.style.display =\n",
              "          google.colab.kernel.accessAllowed ? 'block' : 'none';\n",
              "\n",
              "        async function convertToInteractive(key) {\n",
              "          const element = document.querySelector('#df-f9d7f077-c1e6-4610-b12e-7a02492f117a');\n",
              "          const dataTable =\n",
              "            await google.colab.kernel.invokeFunction('convertToInteractive',\n",
              "                                                     [key], {});\n",
              "          if (!dataTable) return;\n",
              "\n",
              "          const docLinkHtml = 'Like what you see? Visit the ' +\n",
              "            '<a target=\"_blank\" href=https://colab.research.google.com/notebooks/data_table.ipynb>data table notebook</a>'\n",
              "            + ' to learn more about interactive tables.';\n",
              "          element.innerHTML = '';\n",
              "          dataTable['output_type'] = 'display_data';\n",
              "          await google.colab.output.renderOutput(dataTable, element);\n",
              "          const docLink = document.createElement('div');\n",
              "          docLink.innerHTML = docLinkHtml;\n",
              "          element.appendChild(docLink);\n",
              "        }\n",
              "      </script>\n",
              "    </div>\n",
              "  </div>\n",
              "  "
            ]
          },
          "metadata": {},
          "execution_count": 29
        }
      ]
    },
    {
      "cell_type": "markdown",
      "source": [
        "# Splitting of Data"
      ],
      "metadata": {
        "id": "gymp-TW42-Fb"
      }
    },
    {
      "cell_type": "code",
      "source": [
        "from sklearn import preprocessing"
      ],
      "metadata": {
        "id": "m66BEqTRkkkO"
      },
      "execution_count": null,
      "outputs": []
    },
    {
      "cell_type": "code",
      "source": [
        "# Spliting data into Feature and\n",
        "X=df.drop('Target', axis=1)\n",
        "y=df['Target']\n",
        "y=y.astype('int')\n",
        "\n",
        "# Import train_test_split function\n",
        "from sklearn.model_selection import train_test_split\n",
        "\n",
        "# Split dataset into training set and test set\n",
        "X_train, X_test, y_train, y_test = train_test_split(X, y, test_size=0.3, random_state=42)  # 70% training and 30% test"
      ],
      "metadata": {
        "id": "dQ5T3WQhkk8A"
      },
      "execution_count": null,
      "outputs": []
    },
    {
      "cell_type": "markdown",
      "source": [
        "# Training Data"
      ],
      "metadata": {
        "id": "EvK527Bl3AuO"
      }
    },
    {
      "cell_type": "code",
      "source": [
        "# Import MLPClassifer\n",
        "from sklearn.neural_network import MLPClassifier\n",
        "\n",
        "# Create model object\n",
        "clf = MLPClassifier(hidden_layer_sizes=(3,3),\n",
        "                    max_iter=300,\n",
        "                    random_state=5,\n",
        "                    verbose=True,\n",
        "                    activation='logistic',\n",
        "                    learning_rate_init=0.1)"
      ],
      "metadata": {
        "id": "Y55i0qIsnjyG"
      },
      "execution_count": null,
      "outputs": []
    },
    {
      "cell_type": "code",
      "source": [
        "X_train, y_train"
      ],
      "metadata": {
        "colab": {
          "base_uri": "https://localhost:8080/"
        },
        "id": "JT7x8lJQ0Mw2",
        "outputId": "54a143e1-9001-4eb8-94be-63af006650f9"
      },
      "execution_count": null,
      "outputs": [
        {
          "output_type": "execute_result",
          "data": {
            "text/plain": [
              "(      Feature1  Feature2  Feature3\n",
              " 668   1.086548 -0.740355 -0.202109\n",
              " 1973  -0.92803 -0.689427 -0.263135\n",
              " 128   0.202099 -0.791283  -0.50724\n",
              " 340  -0.092717 -0.485717  0.347128\n",
              " 2045  0.890004   -0.6385  0.865851\n",
              " ...        ...       ...       ...\n",
              " 1638  0.300371 -0.689427 -0.415701\n",
              " 1095  1.381365 -0.078296  0.713285\n",
              " 1130  0.791732  0.176342 -0.141082\n",
              " 1294 -0.092717 -1.045921 -0.720832\n",
              " 860  -0.485806  0.685618 -0.964937\n",
              " \n",
              " [1925 rows x 3 columns], 668     1\n",
              " 1973    0\n",
              " 128     1\n",
              " 340     1\n",
              " 2045    0\n",
              "        ..\n",
              " 1638    0\n",
              " 1095    0\n",
              " 1130    0\n",
              " 1294    0\n",
              " 860     1\n",
              " Name: Target, Length: 1925, dtype: int64)"
            ]
          },
          "metadata": {},
          "execution_count": 33
        }
      ]
    },
    {
      "cell_type": "code",
      "source": [
        "# Fit data onto the model\n",
        "clf.fit(X_train,y_train)"
      ],
      "metadata": {
        "colab": {
          "base_uri": "https://localhost:8080/"
        },
        "id": "ShQNsX8T0MP3",
        "outputId": "a107189d-6733-41aa-d0ac-992a51cd185a"
      },
      "execution_count": null,
      "outputs": [
        {
          "output_type": "stream",
          "name": "stdout",
          "text": [
            "Iteration 1, loss = 0.60869700\n",
            "Iteration 2, loss = 0.56264097\n",
            "Iteration 3, loss = 0.55968088\n",
            "Iteration 4, loss = 0.56235512\n",
            "Iteration 5, loss = 0.56024376\n",
            "Iteration 6, loss = 0.56102442\n",
            "Iteration 7, loss = 0.56035370\n",
            "Iteration 8, loss = 0.56101407\n",
            "Iteration 9, loss = 0.56119814\n",
            "Iteration 10, loss = 0.56140854\n",
            "Iteration 11, loss = 0.56276927\n",
            "Iteration 12, loss = 0.55877796\n",
            "Iteration 13, loss = 0.56093092\n",
            "Iteration 14, loss = 0.55953775\n",
            "Iteration 15, loss = 0.55990447\n",
            "Iteration 16, loss = 0.56049765\n",
            "Iteration 17, loss = 0.55997653\n",
            "Iteration 18, loss = 0.56214793\n",
            "Iteration 19, loss = 0.55979506\n",
            "Iteration 20, loss = 0.55987786\n",
            "Iteration 21, loss = 0.55936420\n",
            "Iteration 22, loss = 0.55849485\n",
            "Iteration 23, loss = 0.55997865\n",
            "Iteration 24, loss = 0.55983464\n",
            "Iteration 25, loss = 0.55840093\n",
            "Iteration 26, loss = 0.55827642\n",
            "Iteration 27, loss = 0.55809467\n",
            "Iteration 28, loss = 0.55959574\n",
            "Iteration 29, loss = 0.55864758\n",
            "Iteration 30, loss = 0.55799733\n",
            "Iteration 31, loss = 0.55843625\n",
            "Iteration 32, loss = 0.55775608\n",
            "Iteration 33, loss = 0.55962759\n",
            "Iteration 34, loss = 0.55911332\n",
            "Iteration 35, loss = 0.55981907\n",
            "Iteration 36, loss = 0.55964104\n",
            "Iteration 37, loss = 0.55820286\n",
            "Iteration 38, loss = 0.55934346\n",
            "Iteration 39, loss = 0.55833005\n",
            "Iteration 40, loss = 0.55832137\n",
            "Iteration 41, loss = 0.55846659\n",
            "Iteration 42, loss = 0.55754599\n",
            "Iteration 43, loss = 0.55798300\n",
            "Iteration 44, loss = 0.55766754\n",
            "Iteration 45, loss = 0.55861215\n",
            "Iteration 46, loss = 0.55789838\n",
            "Iteration 47, loss = 0.55844334\n",
            "Iteration 48, loss = 0.55720960\n",
            "Iteration 49, loss = 0.55801065\n",
            "Iteration 50, loss = 0.55886525\n",
            "Iteration 51, loss = 0.55762598\n",
            "Iteration 52, loss = 0.55999488\n",
            "Iteration 53, loss = 0.55921173\n",
            "Iteration 54, loss = 0.55975148\n",
            "Iteration 55, loss = 0.55885627\n",
            "Iteration 56, loss = 0.55939757\n",
            "Iteration 57, loss = 0.56024922\n",
            "Iteration 58, loss = 0.55833438\n",
            "Iteration 59, loss = 0.55791795\n",
            "Training loss did not improve more than tol=0.000100 for 10 consecutive epochs. Stopping.\n"
          ]
        },
        {
          "output_type": "execute_result",
          "data": {
            "text/plain": [
              "MLPClassifier(activation='logistic', hidden_layer_sizes=(3, 3),\n",
              "              learning_rate_init=0.1, max_iter=300, random_state=5,\n",
              "              verbose=True)"
            ]
          },
          "metadata": {},
          "execution_count": 34
        }
      ]
    },
    {
      "cell_type": "code",
      "source": [
        "# Make prediction on test dataset\n",
        "y_pred=clf.predict(X_test)"
      ],
      "metadata": {
        "id": "dqoqSR0Ennh3"
      },
      "execution_count": null,
      "outputs": []
    },
    {
      "cell_type": "markdown",
      "source": [
        "# Model Evaluation"
      ],
      "metadata": {
        "id": "a-zT5aiZ3Fhk"
      }
    },
    {
      "cell_type": "code",
      "source": [
        "# Import scikit metrics and seaborn\n",
        "from sklearn.metrics import accuracy_score\n",
        "from sklearn.metrics import classification_report\n",
        "from sklearn.metrics import confusion_matrix\n",
        "import seaborn as sns"
      ],
      "metadata": {
        "id": "5um2zCa32MIe"
      },
      "execution_count": null,
      "outputs": []
    },
    {
      "cell_type": "code",
      "source": [
        "accuracy = accuracy_score(y_test, y_pred)\n",
        "print(\"Accuracy: %.3f%%\" % (accuracy))"
      ],
      "metadata": {
        "colab": {
          "base_uri": "https://localhost:8080/"
        },
        "id": "Z9iIMmBW2OIk",
        "outputId": "a4636790-6100-4d66-f496-4cd61ea5485b"
      },
      "execution_count": null,
      "outputs": [
        {
          "output_type": "stream",
          "name": "stdout",
          "text": [
            "Accuracy: 0.744%\n"
          ]
        }
      ]
    },
    {
      "cell_type": "code",
      "source": [
        "report = classification_report(y_test, y_pred)\n",
        "print(report)"
      ],
      "metadata": {
        "colab": {
          "base_uri": "https://localhost:8080/"
        },
        "id": "3GFgUsUh2Zjt",
        "outputId": "8d42c67f-b6f3-4f33-d2a4-c8acf5002593"
      },
      "execution_count": null,
      "outputs": [
        {
          "output_type": "stream",
          "name": "stdout",
          "text": [
            "              precision    recall  f1-score   support\n",
            "\n",
            "           0       0.74      1.00      0.85       614\n",
            "           1       0.00      0.00      0.00       211\n",
            "\n",
            "    accuracy                           0.74       825\n",
            "   macro avg       0.37      0.50      0.43       825\n",
            "weighted avg       0.55      0.74      0.64       825\n",
            "\n"
          ]
        },
        {
          "output_type": "stream",
          "name": "stderr",
          "text": [
            "/usr/local/lib/python3.8/dist-packages/sklearn/metrics/_classification.py:1318: UndefinedMetricWarning: Precision and F-score are ill-defined and being set to 0.0 in labels with no predicted samples. Use `zero_division` parameter to control this behavior.\n",
            "  _warn_prf(average, modifier, msg_start, len(result))\n",
            "/usr/local/lib/python3.8/dist-packages/sklearn/metrics/_classification.py:1318: UndefinedMetricWarning: Precision and F-score are ill-defined and being set to 0.0 in labels with no predicted samples. Use `zero_division` parameter to control this behavior.\n",
            "  _warn_prf(average, modifier, msg_start, len(result))\n",
            "/usr/local/lib/python3.8/dist-packages/sklearn/metrics/_classification.py:1318: UndefinedMetricWarning: Precision and F-score are ill-defined and being set to 0.0 in labels with no predicted samples. Use `zero_division` parameter to control this behavior.\n",
            "  _warn_prf(average, modifier, msg_start, len(result))\n"
          ]
        }
      ]
    },
    {
      "cell_type": "code",
      "source": [
        "confusionMatrix = confusion_matrix(y_test, y_pred)\n",
        "sns.heatmap(confusionMatrix, annot=True, fmt=\".0f\")"
      ],
      "metadata": {
        "colab": {
          "base_uri": "https://localhost:8080/",
          "height": 282
        },
        "id": "7kZ7ETz72O6f",
        "outputId": "8cf009ad-bf38-4cae-bb59-ff4073f036a2"
      },
      "execution_count": null,
      "outputs": [
        {
          "output_type": "execute_result",
          "data": {
            "text/plain": [
              "<matplotlib.axes._subplots.AxesSubplot at 0x7f2ede52cc10>"
            ]
          },
          "metadata": {},
          "execution_count": 39
        },
        {
          "output_type": "display_data",
          "data": {
            "text/plain": [
              "<Figure size 432x288 with 2 Axes>"
            ],
            "image/png": "[encoded data removed]"
          },
          "metadata": {
            "needs_background": "light"
          }
        }
      ]
    },
    {
      "cell_type": "markdown",
      "source": [
        "# Class MLP from Scratch"
      ],
      "metadata": {
        "id": "KwQ0LJ342rzy"
      }
    },
    {
      "cell_type": "code",
      "source": [
        "# Define the sigmoid activation function\n",
        "def sigmoid(x):\n",
        "    return 1 / (1 + np.exp(-x))\n",
        "\n",
        "# Define the identity activation function\n",
        "def identity(x):\n",
        "    return x\n",
        "\n",
        "# Define the MLP class\n",
        "class MLP:\n",
        "    def __init__(self, input_size, hidden_sizes, output_size):\n",
        "        self.input_size = input_size\n",
        "        self.hidden_sizes = hidden_sizes\n",
        "        self.output_size = output_size\n",
        "\n",
        "        # Initialize weights for the hidden and output layers\n",
        "        self.weights = []\n",
        "        self.biases = []\n",
        "        prev_size = input_size\n",
        "        for i, size in enumerate(hidden_sizes):\n",
        "            self.weights.append(np.random.randn(prev_size, size))\n",
        "            self.biases.append(np.random.randn(size))\n",
        "            prev_size = size\n",
        "        self.weights.append(np.random.randn(prev_size, output_size))\n",
        "        self.biases.append(np.random.randn(output_size))\n",
        "\n",
        "    # Define the forward pass through the network\n",
        "    def forward(self, input):\n",
        "        activations = [input]\n",
        "        for i, weight, bias in zip(range(len(self.weights)), self.weights, self.biases):\n",
        "            # Use the sigmoid activation function for hidden layers\n",
        "            if i < len(self.weights) - 1:\n",
        "                activation = sigmoid(np.dot(activations[i], weight) + bias)\n",
        "            # Use the identity activation function for the output layer\n",
        "            else:\n",
        "                activation = identity(np.dot(activations[i], weight) + bias)\n",
        "            activations.append(activation)\n",
        "        return activations\n",
        "\n",
        "    # Define the backward pass through the network\n",
        "    def backward(self, activations, targets):\n",
        "        # Compute the error for the output layer\n",
        "        output_error = targets - activations[-1]\n",
        "\n",
        "        # Backpropagate the errors to compute the gradients\n",
        "        gradients = []\n",
        "        for i in reversed(range(len(self.weights))):\n",
        "            activation = activations[i+1]\n",
        "            if i == len(self.weights) - 1:\n",
        "                # Use the identity derivative for the output layer\n",
        "                gradient = output_error * 1\n",
        "            else:\n",
        "                # Use the sigmoid derivative for hidden layers\n",
        "                gradient = np.dot(self.weights[i+1], output_error) * activation * (1 - activation)\n",
        "            gradients.insert(0, gradient)\n",
        "\n",
        "        # Compute the weight and bias updates\n",
        "        weight_updates = []\n",
        "        bias_updates = []\n",
        "        for i, (weight, bias, activation, gradient) in enumerate(zip(self.weights, self.biases, activations, gradients)):\n",
        "            weight_update = np.dot(activation.T, gradient)\n",
        "            bias_update = gradient\n"
      ],
      "metadata": {
        "id": "cg7r2E21Zeps"
      },
      "execution_count": null,
      "outputs": []
    },
    {
      "cell_type": "markdown",
      "source": [
        "To manually compute the forward and backward pass for an epoch in a multilayer perceptron (MLP), you can use the following steps:\n",
        "\n",
        "- Define the input data and the corresponding targets for the epoch.\n",
        "- Initialize the MLP with the appropriate input size, hidden layer sizes, and output size.\n",
        "- Pass the input data through the MLP using the forward() method, which computes the activations for each layer in the network.\n",
        "- Compute the error for the output layer by subtracting the targets from the activations of the output layer.\n",
        "- Backpropagate the errors to compute the gradients for each layer in the network.\n",
        "- Update the weights and biases for each layer in the network using the computed gradients."
      ],
      "metadata": {
        "id": "ehTmI0MoZx0C"
      }
    }
  ]
}